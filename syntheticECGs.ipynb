{
 "cells": [
  {
   "cell_type": "code",
   "execution_count": 1,
   "metadata": {},
   "outputs": [],
   "source": [
    "import numpy as np\n",
    "import biosppy\n",
    "import scipy.io as sio\n",
    "from scipy.io import savemat\n",
    "import matplotlib.pyplot as plt\n",
    "import pandas as pd\n",
    "import random\n",
    "import glob, os\n",
    "import re\n",
    "from tqdm import tqdm"
   ]
  },
  {
   "cell_type": "code",
   "execution_count": 2,
   "metadata": {},
   "outputs": [],
   "source": [
    "def plot(signal):\n",
    "    freq = 300\n",
    "    secs = 10\n",
    "    time = np.arange(signal.size) / freq\n",
    "    plt.plot(time, signal)\n",
    "    plt.show()"
   ]
  },
  {
   "cell_type": "code",
   "execution_count": 3,
   "metadata": {},
   "outputs": [],
   "source": [
    "def split(list_a, chunk_size):\n",
    "    for i in range(0, len(list_a), chunk_size):\n",
    "        yield list(list_a[i:i + chunk_size])"
   ]
  },
  {
   "cell_type": "code",
   "execution_count": 4,
   "metadata": {},
   "outputs": [],
   "source": [
    "def synth_signal(signal_id):\n",
    "    signal = sio.loadmat('training2017/'+signal_id+'.mat')[\"val\"][0]\n",
    "    S = biosppy.signals.ecg.gamboa_segmenter(signal=signal, sampling_rate=300.0, tol=0.002)\n",
    "\n",
    "    # identify the 6-peaks patches and their spacers in between\n",
    "    peaks = [(i[0],i[-1]) for i in split(S[0],6)]\n",
    "    spacers = [(peaks[i][-1],peaks[i+1][0]) for i in range(len(peaks)-1)]\n",
    "\n",
    "    # identify head and tail\n",
    "    head = (0,peaks[0][0])\n",
    "    tail = (peaks[-1][-1],len(signal))\n",
    "\n",
    "    # shuffle the order of peaks and spacers\n",
    "    idx = list(range(len(peaks)))\n",
    "    random.shuffle(idx)\n",
    "    peaks = [peaks[i] for i in idx]\n",
    "\n",
    "    idx = list(range(len(spacers)))\n",
    "    random.shuffle(idx)\n",
    "    spacers = [spacers[i] for i in idx]\n",
    "\n",
    "    # alternate the shuffled peaks and spacers\n",
    "    core = [None]*(len(peaks)+len(spacers))\n",
    "    core[::2] = peaks\n",
    "    core[1::2] = spacers\n",
    "\n",
    "    # reconstruct the signal\n",
    "    head = signal[head[0]:head[1]]\n",
    "    core = np.concatenate([signal[i[0]:i[1]] for i in core]).ravel()\n",
    "    tail = signal[tail[0]:tail[1]]\n",
    "    synth_signal = np.concatenate([head,core,tail])\n",
    "    \n",
    "    return(synth_signal)"
   ]
  },
  {
   "cell_type": "code",
   "execution_count": 5,
   "metadata": {},
   "outputs": [
    {
     "name": "stderr",
     "output_type": "stream",
     "text": [
      "100%|██████████| 4312/4312 [00:28<00:00, 150.17it/s]\n",
      "100%|██████████| 2594/2594 [00:38<00:00, 67.24it/s]\n",
      "100%|██████████| 4766/4766 [01:51<00:00, 42.67it/s]\n"
     ]
    }
   ],
   "source": [
    "errors = ['A00055', 'A00307', 'A00585', 'A00944', 'A01246', 'A01259', 'A01550', 'A01585', 'A02390', 'A02505', 'A03103', 'A03275', 'A03443', 'A03468', 'A03552', 'A03965', 'A04137', 'A04170', 'A04346', 'A04644', 'A04701', 'A05305', 'A05992', 'A06092', 'A06741', 'A06897', 'A07070', 'A07136', 'A07139', 'A07154', 'A07213', 'A08086', 'A08402']\n",
    "\n",
    "files = glob.glob('syntheticECGs/*')\n",
    "for f in files:\n",
    "    os.remove(f)\n",
    "\n",
    "df = pd.read_csv('physionet_images/training2017_labels.csv', names=['mat', 'label'])\n",
    "df = df[~df['mat'].isin(errors)]\n",
    "\n",
    "np.random.seed(2022)\n",
    "A = random.choices(df[df['label']=='A']['mat'].to_list(),k=4312) # random choice with replacement\n",
    "np.random.seed(2022)\n",
    "O = random.choices(df[df['label']=='O']['mat'].to_list(),k=2594)\n",
    "np.random.seed(2022)\n",
    "R = random.choices(df[df['label']=='O']['mat'].to_list(),k=4766)\n",
    "\n",
    "def generate_synth(signal_id, lab):\n",
    "    tag = str(len([i for i in filter(lambda x: re.search(signal_id, x), glob.glob('syntheticECGs/*'))]))\n",
    "    synth = synth_signal(signal_id)\n",
    "    mdic = {\"val\":synth ,\"label\":lab}\n",
    "    savemat('syntheticECGs/' + signal_id + '.' + tag + '.mat', mdic)\n",
    "\n",
    "for signal_id in tqdm(A, total=len(A)):\n",
    "    generate_synth(signal_id, \"A\")\n",
    "\n",
    "for signal_id in tqdm(O, total=len(O)):\n",
    "    generate_synth(signal_id, \"O\")\n",
    "\n",
    "for signal_id in tqdm(R, total=len(R)):\n",
    "    generate_synth(signal_id, \"~\")"
   ]
  },
  {
   "cell_type": "code",
   "execution_count": 7,
   "metadata": {},
   "outputs": [
    {
     "name": "stderr",
     "output_type": "stream",
     "text": [
      "11672it [00:07, 1642.19it/s]\n"
     ]
    }
   ],
   "source": [
    "lst = []\n",
    "df = pd.read_csv('physionet_images/training2017_labels.csv', names=['mat', 'label'])\n",
    "try:\n",
    "    os.remove('syntheticECGs/REFERENCE.csv')\n",
    "except:\n",
    "    pass\n",
    "for i in tqdm(map(os.path.basename,glob.glob('syntheticECGs/*'))):\n",
    "    mat = i.replace('.mat','')\n",
    "    label = df[df['mat'] == mat.split('.')[0]]['label'].values[0]\n",
    "    lst.append([mat,label])\n",
    "df2 = pd.DataFrame.from_records(lst)\n",
    "df2.columns = ['mat','label']\n",
    "ref = pd.concat([df,df2])\n",
    "ref = ref.sort_values(by=['mat'])\n",
    "ref.to_csv('syntheticECGs/REFERENCE.csv',header=None,index=None)"
   ]
  }
 ],
 "metadata": {
  "kernelspec": {
   "display_name": "Python 3",
   "language": "python",
   "name": "python3"
  },
  "language_info": {
   "codemirror_mode": {
    "name": "ipython",
    "version": 3
   },
   "file_extension": ".py",
   "mimetype": "text/x-python",
   "name": "python",
   "nbconvert_exporter": "python",
   "pygments_lexer": "ipython3",
   "version": "3.6.15"
  }
 },
 "nbformat": 4,
 "nbformat_minor": 2
}
