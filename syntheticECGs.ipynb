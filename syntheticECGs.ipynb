{
 "cells": [
  {
   "cell_type": "code",
   "execution_count": 1,
   "metadata": {},
   "outputs": [],
   "source": [
    "import numpy as np\n",
    "import biosppy\n",
    "import scipy.io as sio\n",
    "from scipy.io import savemat\n",
    "import matplotlib.pyplot as plt\n",
    "import pandas as pd\n",
    "import random\n",
    "import glob, os, shutil\n",
    "import re\n",
    "from tqdm import tqdm"
   ]
  },
  {
   "cell_type": "code",
   "execution_count": 2,
   "metadata": {},
   "outputs": [],
   "source": [
    "def plot(signal):\n",
    "    freq = 300\n",
    "    secs = 10\n",
    "    time = np.arange(signal.size) / freq\n",
    "    plt.plot(time, signal)\n",
    "    plt.show()"
   ]
  },
  {
   "cell_type": "code",
   "execution_count": 3,
   "metadata": {},
   "outputs": [],
   "source": [
    "def split(list_a, chunk_size):\n",
    "    for i in range(0, len(list_a), chunk_size):\n",
    "        yield list(list_a[i:i + chunk_size])"
   ]
  },
  {
   "cell_type": "code",
   "execution_count": 4,
   "metadata": {},
   "outputs": [],
   "source": [
    "def synth_signal(datadir, signal_id):\n",
    "    signal = sio.loadmat(datadir+'/'+signal_id+'.mat')[\"val\"][0]\n",
    "    S = biosppy.signals.ecg.gamboa_segmenter(signal=signal, sampling_rate=300.0, tol=0.002)\n",
    "\n",
    "    # identify the 6-peaks patches and their spacers in between\n",
    "    a = random.choice(range(6))\n",
    "    if a > 0:",
    "        peaks = [(i[0],i[-1]) for i in split(S[0][a:],6)]\n",
    "    peaks.insert(0,tuple([S[0][:a][0],S[0][:a][-1]]))\n",
    "    spacers = [(peaks[i][-1],peaks[i+1][0]) for i in range(len(peaks)-1)]\n",
    "\n",
    "    # identify head and tail\n",
    "    head = (0,peaks[0][0])\n",
    "    tail = (peaks[-1][-1],len(signal))\n",
    "\n",
    "    # shuffle the order of peaks and spacers\n",
    "    idx = list(range(len(peaks)))\n",
    "    random.shuffle(idx)\n",
    "    peaks = [peaks[i] for i in idx]\n",
    "\n",
    "    idx = list(range(len(spacers)))\n",
    "    random.shuffle(idx)\n",
    "    spacers = [spacers[i] for i in idx]\n",
    "\n",
    "    # alternate the shuffled peaks and spacers\n",
    "    core = [None]*(len(peaks)+len(spacers))\n",
    "    core[::2] = peaks\n",
    "    core[1::2] = spacers\n",
    "\n",
    "    # reconstruct the signal\n",
    "    head = signal[head[0]:head[1]]\n",
    "    core = np.concatenate([signal[i[0]:i[1]] for i in core]).ravel()\n",
    "    tail = signal[tail[0]:tail[1]]\n",
    "    synth_signal = np.concatenate([head,core,tail])\n",
    "    \n",
    "\n",
    "    return(synth_signal)"
   ]
  },
  {
   "cell_type": "code",
   "execution_count": 5,
   "metadata": {},
   "outputs": [
    {
     "name": "stderr",
     "output_type": "stream",
     "text": [
      "100%|██████████| 8528/8528 [00:09<00:00, 934.58it/s]\n",
      "100%|██████████| 300/300 [00:00<00:00, 927.05it/s]\n"
     ]
    }
   ],
   "source": [
    "# gamboa_segmenter gives error on some signals: we skip those\n",
    "\n",
    "errors = []\n",
    "\n",
    "def populate_errors(datadir):\n",
    "    df = pd.read_csv(datadir+'/REFERENCE.csv', names=['mat', 'label'])\n",
    "    for signal_id in tqdm(df['mat'], total=len(df['mat'])):\n",
    "        signal = sio.loadmat(datadir+'/'+signal_id+'.mat')[\"val\"][0]\n",
    "        try:\n",
    "            S = biosppy.signals.ecg.gamboa_segmenter(signal=signal, sampling_rate=300.0, tol=0.002)\n",
    "        except:\n",
    "            errors.append(signal_id)\n",
    "\n",
    "populate_errors('training2017')\n",
    "populate_errors('validation2017')"
   ]
  },
  {
   "cell_type": "code",
   "execution_count": 9,
   "metadata": {},
   "outputs": [
    {
     "name": "stderr",
     "output_type": "stream",
     "text": [
      "0it [00:00, ?it/s]\n",
      "100%|██████████| 82/82 [00:00<00:00, 343.78it/s]\n",
      "100%|██████████| 99/99 [00:00<00:00, 413.96it/s]\n",
      "100%|██████████| 111/111 [00:00<00:00, 335.52it/s]\n"
     ]
    }
   ],
   "source": [
    "datadir = 'validation2017'\n",
    "\n",
    "# if the directory exists, overwrite it with a new one\n",
    "outdir = 'balanced_'+datadir\n",
    "if os.path.exists(outdir):\n",
    "    shutil.rmtree(outdir)\n",
    "os.makedirs(outdir)\n",
    "\n",
    "df = pd.read_csv(datadir+'/REFERENCE.csv', names=['mat', 'label'])\n",
    "df = df[~df['mat'].isin(errors)]\n",
    "a = df['label'].value_counts().max() - df['label'].value_counts()\n",
    "ref_counts = a.to_dict()\n",
    "\n",
    "for k,v in ref_counts.items():\n",
    "    random.seed(2022)\n",
    "    lst = random.choices(df[df['label']==k]['mat'].to_list(),k=v)\n",
    "    for i in list(set(df['mat']) - set(lst)):\n",
    "        shutil.copy(datadir+'/'+i+'.mat', outdir+'/'+i+'.mat')\n",
    "    for signal_id in tqdm(lst, total=v):\n",
    "        tag = str(len([i for i in filter(lambda x: re.search(signal_id, x), glob.glob(outdir + '/*'))]))\n",
    "        synth = synth_signal(datadir, signal_id)\n",
    "        mdic = {\"val\":synth ,\"label\":k}\n",
    "        savemat(outdir + '/' + signal_id + '.' + tag + '.mat', mdic)"
   ]
  },
  {
   "cell_type": "code",
   "execution_count": 10,
   "metadata": {},
   "outputs": [
    {
     "name": "stderr",
     "output_type": "stream",
     "text": [
      "100%|██████████| 584/584 [00:00<00:00, 3253.92it/s]\n"
     ]
    }
   ],
   "source": [
    "lst = []\n",
    "files = glob.glob(outdir+'/*')\n",
    "for i in tqdm(map(os.path.basename,files),total=len(files)):\n",
    "    mat = i.replace('.mat','')\n",
    "    label = df[df['mat'] == mat.split('.')[0]]['label'].values[0]\n",
    "    lst.append([mat,label])\n",
    "df2 = pd.DataFrame.from_records(lst)\n",
    "df2.columns = ['mat','label']\n",
    "ref = pd.concat([df,df2])\n",
    "ref = ref.sort_values(by=['mat'])\n",
    "ref.to_csv(outdir+'/REFERENCE.csv',header=None,index=None)"
   ]
  }
 ],
 "metadata": {
  "kernelspec": {
   "display_name": "Python 3",
   "language": "python",
   "name": "python3"
  },
  "language_info": {
   "codemirror_mode": {
    "name": "ipython",
    "version": 3
   },
   "file_extension": ".py",
   "mimetype": "text/x-python",
   "name": "python",
   "nbconvert_exporter": "python",
   "pygments_lexer": "ipython3",
   "version": "3.6.15"
  }
 },
 "nbformat": 4,
 "nbformat_minor": 2
}
